{
  "nbformat": 4,
  "nbformat_minor": 0,
  "metadata": {
    "colab": {
      "provenance": []
    },
    "kernelspec": {
      "name": "python3",
      "display_name": "Python 3"
    },
    "language_info": {
      "name": "python"
    }
  },
  "cells": [
    {
      "cell_type": "code",
      "execution_count": 1,
      "metadata": {
        "id": "Pva_wpSU-Hw-"
      },
      "outputs": [],
      "source": [
        "import numpy as np\n",
        "import pandas as pd\n",
        "import datetime\n",
        "import math\n",
        "import matplotlib.pyplot as plt\n",
        "import seaborn as sns\n",
        "from sklearn.preprocessing import MinMaxScaler\n",
        "from tensorflow.keras.models import Sequential\n",
        "from tensorflow.keras.layers import Dense , LSTM\n",
        "from sklearn.metrics import mean_squared_error"
      ]
    },
    {
      "cell_type": "code",
      "source": [
        "Dataset_link='https://raw.githubusercontent.com/mwitiderrick/stockprice/master/NSE-TATAGLOBAL.csv'"
      ],
      "metadata": {
        "id": "aqbNrbBX-wcz"
      },
      "execution_count": 2,
      "outputs": []
    },
    {
      "cell_type": "code",
      "source": [
        "df= pd.read_csv(Dataset_link, parse_dates=True,)\n",
        "df.reset_index()\n",
        "df.head(10)"
      ],
      "metadata": {
        "colab": {
          "base_uri": "https://localhost:8080/",
          "height": 363
        },
        "id": "Tdl65yEL-0SZ",
        "outputId": "c5188934-410b-4670-effe-c6677e4496e8"
      },
      "execution_count": 3,
      "outputs": [
        {
          "output_type": "execute_result",
          "data": {
            "text/plain": [
              "         Date    Open    High     Low    Last   Close  Total Trade Quantity  \\\n",
              "0  2018-09-28  234.05  235.95  230.20  233.50  233.75               3069914   \n",
              "1  2018-09-27  234.55  236.80  231.10  233.80  233.25               5082859   \n",
              "2  2018-09-26  240.00  240.00  232.50  235.00  234.25               2240909   \n",
              "3  2018-09-25  233.30  236.75  232.00  236.25  236.10               2349368   \n",
              "4  2018-09-24  233.55  239.20  230.75  234.00  233.30               3423509   \n",
              "5  2018-09-21  235.00  237.00  227.95  233.75  234.60               5395319   \n",
              "6  2018-09-19  235.95  237.20  233.45  234.60  234.90               1362058   \n",
              "7  2018-09-18  237.90  239.25  233.50  235.50  235.05               2614794   \n",
              "8  2018-09-17  233.15  238.00  230.25  236.40  236.60               3170894   \n",
              "9  2018-09-14  223.45  236.70  223.30  234.00  233.95               6377909   \n",
              "\n",
              "   Turnover (Lacs)  \n",
              "0          7162.35  \n",
              "1         11859.95  \n",
              "2          5248.60  \n",
              "3          5503.90  \n",
              "4          7999.55  \n",
              "5         12589.59  \n",
              "6          3202.78  \n",
              "7          6163.70  \n",
              "8          7445.41  \n",
              "9         14784.50  "
            ],
            "text/html": [
              "\n",
              "  <div id=\"df-96a0ad78-284c-4010-b363-e78ff9f3390e\">\n",
              "    <div class=\"colab-df-container\">\n",
              "      <div>\n",
              "<style scoped>\n",
              "    .dataframe tbody tr th:only-of-type {\n",
              "        vertical-align: middle;\n",
              "    }\n",
              "\n",
              "    .dataframe tbody tr th {\n",
              "        vertical-align: top;\n",
              "    }\n",
              "\n",
              "    .dataframe thead th {\n",
              "        text-align: right;\n",
              "    }\n",
              "</style>\n",
              "<table border=\"1\" class=\"dataframe\">\n",
              "  <thead>\n",
              "    <tr style=\"text-align: right;\">\n",
              "      <th></th>\n",
              "      <th>Date</th>\n",
              "      <th>Open</th>\n",
              "      <th>High</th>\n",
              "      <th>Low</th>\n",
              "      <th>Last</th>\n",
              "      <th>Close</th>\n",
              "      <th>Total Trade Quantity</th>\n",
              "      <th>Turnover (Lacs)</th>\n",
              "    </tr>\n",
              "  </thead>\n",
              "  <tbody>\n",
              "    <tr>\n",
              "      <th>0</th>\n",
              "      <td>2018-09-28</td>\n",
              "      <td>234.05</td>\n",
              "      <td>235.95</td>\n",
              "      <td>230.20</td>\n",
              "      <td>233.50</td>\n",
              "      <td>233.75</td>\n",
              "      <td>3069914</td>\n",
              "      <td>7162.35</td>\n",
              "    </tr>\n",
              "    <tr>\n",
              "      <th>1</th>\n",
              "      <td>2018-09-27</td>\n",
              "      <td>234.55</td>\n",
              "      <td>236.80</td>\n",
              "      <td>231.10</td>\n",
              "      <td>233.80</td>\n",
              "      <td>233.25</td>\n",
              "      <td>5082859</td>\n",
              "      <td>11859.95</td>\n",
              "    </tr>\n",
              "    <tr>\n",
              "      <th>2</th>\n",
              "      <td>2018-09-26</td>\n",
              "      <td>240.00</td>\n",
              "      <td>240.00</td>\n",
              "      <td>232.50</td>\n",
              "      <td>235.00</td>\n",
              "      <td>234.25</td>\n",
              "      <td>2240909</td>\n",
              "      <td>5248.60</td>\n",
              "    </tr>\n",
              "    <tr>\n",
              "      <th>3</th>\n",
              "      <td>2018-09-25</td>\n",
              "      <td>233.30</td>\n",
              "      <td>236.75</td>\n",
              "      <td>232.00</td>\n",
              "      <td>236.25</td>\n",
              "      <td>236.10</td>\n",
              "      <td>2349368</td>\n",
              "      <td>5503.90</td>\n",
              "    </tr>\n",
              "    <tr>\n",
              "      <th>4</th>\n",
              "      <td>2018-09-24</td>\n",
              "      <td>233.55</td>\n",
              "      <td>239.20</td>\n",
              "      <td>230.75</td>\n",
              "      <td>234.00</td>\n",
              "      <td>233.30</td>\n",
              "      <td>3423509</td>\n",
              "      <td>7999.55</td>\n",
              "    </tr>\n",
              "    <tr>\n",
              "      <th>5</th>\n",
              "      <td>2018-09-21</td>\n",
              "      <td>235.00</td>\n",
              "      <td>237.00</td>\n",
              "      <td>227.95</td>\n",
              "      <td>233.75</td>\n",
              "      <td>234.60</td>\n",
              "      <td>5395319</td>\n",
              "      <td>12589.59</td>\n",
              "    </tr>\n",
              "    <tr>\n",
              "      <th>6</th>\n",
              "      <td>2018-09-19</td>\n",
              "      <td>235.95</td>\n",
              "      <td>237.20</td>\n",
              "      <td>233.45</td>\n",
              "      <td>234.60</td>\n",
              "      <td>234.90</td>\n",
              "      <td>1362058</td>\n",
              "      <td>3202.78</td>\n",
              "    </tr>\n",
              "    <tr>\n",
              "      <th>7</th>\n",
              "      <td>2018-09-18</td>\n",
              "      <td>237.90</td>\n",
              "      <td>239.25</td>\n",
              "      <td>233.50</td>\n",
              "      <td>235.50</td>\n",
              "      <td>235.05</td>\n",
              "      <td>2614794</td>\n",
              "      <td>6163.70</td>\n",
              "    </tr>\n",
              "    <tr>\n",
              "      <th>8</th>\n",
              "      <td>2018-09-17</td>\n",
              "      <td>233.15</td>\n",
              "      <td>238.00</td>\n",
              "      <td>230.25</td>\n",
              "      <td>236.40</td>\n",
              "      <td>236.60</td>\n",
              "      <td>3170894</td>\n",
              "      <td>7445.41</td>\n",
              "    </tr>\n",
              "    <tr>\n",
              "      <th>9</th>\n",
              "      <td>2018-09-14</td>\n",
              "      <td>223.45</td>\n",
              "      <td>236.70</td>\n",
              "      <td>223.30</td>\n",
              "      <td>234.00</td>\n",
              "      <td>233.95</td>\n",
              "      <td>6377909</td>\n",
              "      <td>14784.50</td>\n",
              "    </tr>\n",
              "  </tbody>\n",
              "</table>\n",
              "</div>\n",
              "      <button class=\"colab-df-convert\" onclick=\"convertToInteractive('df-96a0ad78-284c-4010-b363-e78ff9f3390e')\"\n",
              "              title=\"Convert this dataframe to an interactive table.\"\n",
              "              style=\"display:none;\">\n",
              "        \n",
              "  <svg xmlns=\"http://www.w3.org/2000/svg\" height=\"24px\"viewBox=\"0 0 24 24\"\n",
              "       width=\"24px\">\n",
              "    <path d=\"M0 0h24v24H0V0z\" fill=\"none\"/>\n",
              "    <path d=\"M18.56 5.44l.94 2.06.94-2.06 2.06-.94-2.06-.94-.94-2.06-.94 2.06-2.06.94zm-11 1L8.5 8.5l.94-2.06 2.06-.94-2.06-.94L8.5 2.5l-.94 2.06-2.06.94zm10 10l.94 2.06.94-2.06 2.06-.94-2.06-.94-.94-2.06-.94 2.06-2.06.94z\"/><path d=\"M17.41 7.96l-1.37-1.37c-.4-.4-.92-.59-1.43-.59-.52 0-1.04.2-1.43.59L10.3 9.45l-7.72 7.72c-.78.78-.78 2.05 0 2.83L4 21.41c.39.39.9.59 1.41.59.51 0 1.02-.2 1.41-.59l7.78-7.78 2.81-2.81c.8-.78.8-2.07 0-2.86zM5.41 20L4 18.59l7.72-7.72 1.47 1.35L5.41 20z\"/>\n",
              "  </svg>\n",
              "      </button>\n",
              "      \n",
              "  <style>\n",
              "    .colab-df-container {\n",
              "      display:flex;\n",
              "      flex-wrap:wrap;\n",
              "      gap: 12px;\n",
              "    }\n",
              "\n",
              "    .colab-df-convert {\n",
              "      background-color: #E8F0FE;\n",
              "      border: none;\n",
              "      border-radius: 50%;\n",
              "      cursor: pointer;\n",
              "      display: none;\n",
              "      fill: #1967D2;\n",
              "      height: 32px;\n",
              "      padding: 0 0 0 0;\n",
              "      width: 32px;\n",
              "    }\n",
              "\n",
              "    .colab-df-convert:hover {\n",
              "      background-color: #E2EBFA;\n",
              "      box-shadow: 0px 1px 2px rgba(60, 64, 67, 0.3), 0px 1px 3px 1px rgba(60, 64, 67, 0.15);\n",
              "      fill: #174EA6;\n",
              "    }\n",
              "\n",
              "    [theme=dark] .colab-df-convert {\n",
              "      background-color: #3B4455;\n",
              "      fill: #D2E3FC;\n",
              "    }\n",
              "\n",
              "    [theme=dark] .colab-df-convert:hover {\n",
              "      background-color: #434B5C;\n",
              "      box-shadow: 0px 1px 3px 1px rgba(0, 0, 0, 0.15);\n",
              "      filter: drop-shadow(0px 1px 2px rgba(0, 0, 0, 0.3));\n",
              "      fill: #FFFFFF;\n",
              "    }\n",
              "  </style>\n",
              "\n",
              "      <script>\n",
              "        const buttonEl =\n",
              "          document.querySelector('#df-96a0ad78-284c-4010-b363-e78ff9f3390e button.colab-df-convert');\n",
              "        buttonEl.style.display =\n",
              "          google.colab.kernel.accessAllowed ? 'block' : 'none';\n",
              "\n",
              "        async function convertToInteractive(key) {\n",
              "          const element = document.querySelector('#df-96a0ad78-284c-4010-b363-e78ff9f3390e');\n",
              "          const dataTable =\n",
              "            await google.colab.kernel.invokeFunction('convertToInteractive',\n",
              "                                                     [key], {});\n",
              "          if (!dataTable) return;\n",
              "\n",
              "          const docLinkHtml = 'Like what you see? Visit the ' +\n",
              "            '<a target=\"_blank\" href=https://colab.research.google.com/notebooks/data_table.ipynb>data table notebook</a>'\n",
              "            + ' to learn more about interactive tables.';\n",
              "          element.innerHTML = '';\n",
              "          dataTable['output_type'] = 'display_data';\n",
              "          await google.colab.output.renderOutput(dataTable, element);\n",
              "          const docLink = document.createElement('div');\n",
              "          docLink.innerHTML = docLinkHtml;\n",
              "          element.appendChild(docLink);\n",
              "        }\n",
              "      </script>\n",
              "    </div>\n",
              "  </div>\n",
              "  "
            ]
          },
          "metadata": {},
          "execution_count": 3
        }
      ]
    },
    {
      "cell_type": "code",
      "source": [
        "df.sample(10)"
      ],
      "metadata": {
        "colab": {
          "base_uri": "https://localhost:8080/",
          "height": 363
        },
        "id": "KP0r5iRD-3O2",
        "outputId": "7acb9a83-dba6-4529-d0cf-e124b21bd6c6"
      },
      "execution_count": 4,
      "outputs": [
        {
          "output_type": "execute_result",
          "data": {
            "text/plain": [
              "            Date    Open    High     Low    Last   Close  \\\n",
              "1195  2013-11-27  146.30  147.60  144.00  144.75  145.05   \n",
              "1721  2011-10-19   88.70   89.10   85.60   87.50   87.55   \n",
              "367   2017-04-07  152.80  154.45  150.00  150.00  150.60   \n",
              "1344  2013-04-23  141.30  141.30  136.65  137.95  138.35   \n",
              "1480  2012-10-04  155.60  156.50  150.55  151.90  151.90   \n",
              "629   2016-03-15  116.00  116.40  115.00  115.70  115.45   \n",
              "1666  2012-01-09   94.00   94.95   92.50   93.10   93.10   \n",
              "472   2016-11-04  131.00  132.00  126.00  126.40  126.85   \n",
              "396   2017-02-22  142.55  142.75  139.60  139.75  140.00   \n",
              "1586  2012-05-04  117.80  118.70  113.40  114.50  114.40   \n",
              "\n",
              "      Total Trade Quantity  Turnover (Lacs)  \n",
              "1195               1855005          2699.14  \n",
              "1721                910465           796.75  \n",
              "367                1444642          2202.25  \n",
              "1344                998966          1384.81  \n",
              "1480               4789280          7329.10  \n",
              "629                1082982          1250.14  \n",
              "1666                649944           608.05  \n",
              "472                4614456          5932.76  \n",
              "396                1296093          1827.19  \n",
              "1586               1259029          1460.54  "
            ],
            "text/html": [
              "\n",
              "  <div id=\"df-4d040583-2fb1-4452-8af9-f1579aa5098a\">\n",
              "    <div class=\"colab-df-container\">\n",
              "      <div>\n",
              "<style scoped>\n",
              "    .dataframe tbody tr th:only-of-type {\n",
              "        vertical-align: middle;\n",
              "    }\n",
              "\n",
              "    .dataframe tbody tr th {\n",
              "        vertical-align: top;\n",
              "    }\n",
              "\n",
              "    .dataframe thead th {\n",
              "        text-align: right;\n",
              "    }\n",
              "</style>\n",
              "<table border=\"1\" class=\"dataframe\">\n",
              "  <thead>\n",
              "    <tr style=\"text-align: right;\">\n",
              "      <th></th>\n",
              "      <th>Date</th>\n",
              "      <th>Open</th>\n",
              "      <th>High</th>\n",
              "      <th>Low</th>\n",
              "      <th>Last</th>\n",
              "      <th>Close</th>\n",
              "      <th>Total Trade Quantity</th>\n",
              "      <th>Turnover (Lacs)</th>\n",
              "    </tr>\n",
              "  </thead>\n",
              "  <tbody>\n",
              "    <tr>\n",
              "      <th>1195</th>\n",
              "      <td>2013-11-27</td>\n",
              "      <td>146.30</td>\n",
              "      <td>147.60</td>\n",
              "      <td>144.00</td>\n",
              "      <td>144.75</td>\n",
              "      <td>145.05</td>\n",
              "      <td>1855005</td>\n",
              "      <td>2699.14</td>\n",
              "    </tr>\n",
              "    <tr>\n",
              "      <th>1721</th>\n",
              "      <td>2011-10-19</td>\n",
              "      <td>88.70</td>\n",
              "      <td>89.10</td>\n",
              "      <td>85.60</td>\n",
              "      <td>87.50</td>\n",
              "      <td>87.55</td>\n",
              "      <td>910465</td>\n",
              "      <td>796.75</td>\n",
              "    </tr>\n",
              "    <tr>\n",
              "      <th>367</th>\n",
              "      <td>2017-04-07</td>\n",
              "      <td>152.80</td>\n",
              "      <td>154.45</td>\n",
              "      <td>150.00</td>\n",
              "      <td>150.00</td>\n",
              "      <td>150.60</td>\n",
              "      <td>1444642</td>\n",
              "      <td>2202.25</td>\n",
              "    </tr>\n",
              "    <tr>\n",
              "      <th>1344</th>\n",
              "      <td>2013-04-23</td>\n",
              "      <td>141.30</td>\n",
              "      <td>141.30</td>\n",
              "      <td>136.65</td>\n",
              "      <td>137.95</td>\n",
              "      <td>138.35</td>\n",
              "      <td>998966</td>\n",
              "      <td>1384.81</td>\n",
              "    </tr>\n",
              "    <tr>\n",
              "      <th>1480</th>\n",
              "      <td>2012-10-04</td>\n",
              "      <td>155.60</td>\n",
              "      <td>156.50</td>\n",
              "      <td>150.55</td>\n",
              "      <td>151.90</td>\n",
              "      <td>151.90</td>\n",
              "      <td>4789280</td>\n",
              "      <td>7329.10</td>\n",
              "    </tr>\n",
              "    <tr>\n",
              "      <th>629</th>\n",
              "      <td>2016-03-15</td>\n",
              "      <td>116.00</td>\n",
              "      <td>116.40</td>\n",
              "      <td>115.00</td>\n",
              "      <td>115.70</td>\n",
              "      <td>115.45</td>\n",
              "      <td>1082982</td>\n",
              "      <td>1250.14</td>\n",
              "    </tr>\n",
              "    <tr>\n",
              "      <th>1666</th>\n",
              "      <td>2012-01-09</td>\n",
              "      <td>94.00</td>\n",
              "      <td>94.95</td>\n",
              "      <td>92.50</td>\n",
              "      <td>93.10</td>\n",
              "      <td>93.10</td>\n",
              "      <td>649944</td>\n",
              "      <td>608.05</td>\n",
              "    </tr>\n",
              "    <tr>\n",
              "      <th>472</th>\n",
              "      <td>2016-11-04</td>\n",
              "      <td>131.00</td>\n",
              "      <td>132.00</td>\n",
              "      <td>126.00</td>\n",
              "      <td>126.40</td>\n",
              "      <td>126.85</td>\n",
              "      <td>4614456</td>\n",
              "      <td>5932.76</td>\n",
              "    </tr>\n",
              "    <tr>\n",
              "      <th>396</th>\n",
              "      <td>2017-02-22</td>\n",
              "      <td>142.55</td>\n",
              "      <td>142.75</td>\n",
              "      <td>139.60</td>\n",
              "      <td>139.75</td>\n",
              "      <td>140.00</td>\n",
              "      <td>1296093</td>\n",
              "      <td>1827.19</td>\n",
              "    </tr>\n",
              "    <tr>\n",
              "      <th>1586</th>\n",
              "      <td>2012-05-04</td>\n",
              "      <td>117.80</td>\n",
              "      <td>118.70</td>\n",
              "      <td>113.40</td>\n",
              "      <td>114.50</td>\n",
              "      <td>114.40</td>\n",
              "      <td>1259029</td>\n",
              "      <td>1460.54</td>\n",
              "    </tr>\n",
              "  </tbody>\n",
              "</table>\n",
              "</div>\n",
              "      <button class=\"colab-df-convert\" onclick=\"convertToInteractive('df-4d040583-2fb1-4452-8af9-f1579aa5098a')\"\n",
              "              title=\"Convert this dataframe to an interactive table.\"\n",
              "              style=\"display:none;\">\n",
              "        \n",
              "  <svg xmlns=\"http://www.w3.org/2000/svg\" height=\"24px\"viewBox=\"0 0 24 24\"\n",
              "       width=\"24px\">\n",
              "    <path d=\"M0 0h24v24H0V0z\" fill=\"none\"/>\n",
              "    <path d=\"M18.56 5.44l.94 2.06.94-2.06 2.06-.94-2.06-.94-.94-2.06-.94 2.06-2.06.94zm-11 1L8.5 8.5l.94-2.06 2.06-.94-2.06-.94L8.5 2.5l-.94 2.06-2.06.94zm10 10l.94 2.06.94-2.06 2.06-.94-2.06-.94-.94-2.06-.94 2.06-2.06.94z\"/><path d=\"M17.41 7.96l-1.37-1.37c-.4-.4-.92-.59-1.43-.59-.52 0-1.04.2-1.43.59L10.3 9.45l-7.72 7.72c-.78.78-.78 2.05 0 2.83L4 21.41c.39.39.9.59 1.41.59.51 0 1.02-.2 1.41-.59l7.78-7.78 2.81-2.81c.8-.78.8-2.07 0-2.86zM5.41 20L4 18.59l7.72-7.72 1.47 1.35L5.41 20z\"/>\n",
              "  </svg>\n",
              "      </button>\n",
              "      \n",
              "  <style>\n",
              "    .colab-df-container {\n",
              "      display:flex;\n",
              "      flex-wrap:wrap;\n",
              "      gap: 12px;\n",
              "    }\n",
              "\n",
              "    .colab-df-convert {\n",
              "      background-color: #E8F0FE;\n",
              "      border: none;\n",
              "      border-radius: 50%;\n",
              "      cursor: pointer;\n",
              "      display: none;\n",
              "      fill: #1967D2;\n",
              "      height: 32px;\n",
              "      padding: 0 0 0 0;\n",
              "      width: 32px;\n",
              "    }\n",
              "\n",
              "    .colab-df-convert:hover {\n",
              "      background-color: #E2EBFA;\n",
              "      box-shadow: 0px 1px 2px rgba(60, 64, 67, 0.3), 0px 1px 3px 1px rgba(60, 64, 67, 0.15);\n",
              "      fill: #174EA6;\n",
              "    }\n",
              "\n",
              "    [theme=dark] .colab-df-convert {\n",
              "      background-color: #3B4455;\n",
              "      fill: #D2E3FC;\n",
              "    }\n",
              "\n",
              "    [theme=dark] .colab-df-convert:hover {\n",
              "      background-color: #434B5C;\n",
              "      box-shadow: 0px 1px 3px 1px rgba(0, 0, 0, 0.15);\n",
              "      filter: drop-shadow(0px 1px 2px rgba(0, 0, 0, 0.3));\n",
              "      fill: #FFFFFF;\n",
              "    }\n",
              "  </style>\n",
              "\n",
              "      <script>\n",
              "        const buttonEl =\n",
              "          document.querySelector('#df-4d040583-2fb1-4452-8af9-f1579aa5098a button.colab-df-convert');\n",
              "        buttonEl.style.display =\n",
              "          google.colab.kernel.accessAllowed ? 'block' : 'none';\n",
              "\n",
              "        async function convertToInteractive(key) {\n",
              "          const element = document.querySelector('#df-4d040583-2fb1-4452-8af9-f1579aa5098a');\n",
              "          const dataTable =\n",
              "            await google.colab.kernel.invokeFunction('convertToInteractive',\n",
              "                                                     [key], {});\n",
              "          if (!dataTable) return;\n",
              "\n",
              "          const docLinkHtml = 'Like what you see? Visit the ' +\n",
              "            '<a target=\"_blank\" href=https://colab.research.google.com/notebooks/data_table.ipynb>data table notebook</a>'\n",
              "            + ' to learn more about interactive tables.';\n",
              "          element.innerHTML = '';\n",
              "          dataTable['output_type'] = 'display_data';\n",
              "          await google.colab.output.renderOutput(dataTable, element);\n",
              "          const docLink = document.createElement('div');\n",
              "          docLink.innerHTML = docLinkHtml;\n",
              "          element.appendChild(docLink);\n",
              "        }\n",
              "      </script>\n",
              "    </div>\n",
              "  </div>\n",
              "  "
            ]
          },
          "metadata": {},
          "execution_count": 4
        }
      ]
    },
    {
      "cell_type": "code",
      "source": [
        "df.columns"
      ],
      "metadata": {
        "colab": {
          "base_uri": "https://localhost:8080/"
        },
        "id": "tgLAP-QE-8zY",
        "outputId": "c2c0d7a9-093e-4da1-848c-91a77dcf0c2b"
      },
      "execution_count": 5,
      "outputs": [
        {
          "output_type": "execute_result",
          "data": {
            "text/plain": [
              "Index(['Date', 'Open', 'High', 'Low', 'Last', 'Close', 'Total Trade Quantity',\n",
              "       'Turnover (Lacs)'],\n",
              "      dtype='object')"
            ]
          },
          "metadata": {},
          "execution_count": 5
        }
      ]
    },
    {
      "cell_type": "code",
      "source": [
        "df.shape"
      ],
      "metadata": {
        "colab": {
          "base_uri": "https://localhost:8080/"
        },
        "id": "QLuUkUxy_tPa",
        "outputId": "5b226d43-9951-492a-fc98-8d6ef0aaff4e"
      },
      "execution_count": 6,
      "outputs": [
        {
          "output_type": "execute_result",
          "data": {
            "text/plain": [
              "(2035, 8)"
            ]
          },
          "metadata": {},
          "execution_count": 6
        }
      ]
    },
    {
      "cell_type": "code",
      "source": [
        "df.info()"
      ],
      "metadata": {
        "colab": {
          "base_uri": "https://localhost:8080/"
        },
        "id": "cMXuFSnjAlUe",
        "outputId": "fc29a13d-96bf-4b63-9a73-4dc67087de94"
      },
      "execution_count": 7,
      "outputs": [
        {
          "output_type": "stream",
          "name": "stdout",
          "text": [
            "<class 'pandas.core.frame.DataFrame'>\n",
            "RangeIndex: 2035 entries, 0 to 2034\n",
            "Data columns (total 8 columns):\n",
            " #   Column                Non-Null Count  Dtype  \n",
            "---  ------                --------------  -----  \n",
            " 0   Date                  2035 non-null   object \n",
            " 1   Open                  2035 non-null   float64\n",
            " 2   High                  2035 non-null   float64\n",
            " 3   Low                   2035 non-null   float64\n",
            " 4   Last                  2035 non-null   float64\n",
            " 5   Close                 2035 non-null   float64\n",
            " 6   Total Trade Quantity  2035 non-null   int64  \n",
            " 7   Turnover (Lacs)       2035 non-null   float64\n",
            "dtypes: float64(6), int64(1), object(1)\n",
            "memory usage: 127.3+ KB\n"
          ]
        }
      ]
    },
    {
      "cell_type": "code",
      "source": [
        "df.isnull().sum()"
      ],
      "metadata": {
        "colab": {
          "base_uri": "https://localhost:8080/"
        },
        "id": "kEOT3jPIAuNf",
        "outputId": "2e2d0bf2-beb2-44c1-c3c6-f72f4e822434"
      },
      "execution_count": 8,
      "outputs": [
        {
          "output_type": "execute_result",
          "data": {
            "text/plain": [
              "Date                    0\n",
              "Open                    0\n",
              "High                    0\n",
              "Low                     0\n",
              "Last                    0\n",
              "Close                   0\n",
              "Total Trade Quantity    0\n",
              "Turnover (Lacs)         0\n",
              "dtype: int64"
            ]
          },
          "metadata": {},
          "execution_count": 8
        }
      ]
    },
    {
      "cell_type": "code",
      "source": [
        "df.describe()"
      ],
      "metadata": {
        "colab": {
          "base_uri": "https://localhost:8080/",
          "height": 300
        },
        "id": "G-WB8nP-BYuW",
        "outputId": "ceb83d3f-f702-4306-8f7a-073f879396c7"
      },
      "execution_count": 9,
      "outputs": [
        {
          "output_type": "execute_result",
          "data": {
            "text/plain": [
              "              Open         High          Low         Last       Close  \\\n",
              "count  2035.000000  2035.000000  2035.000000  2035.000000  2035.00000   \n",
              "mean    149.713735   151.992826   147.293931   149.474251   149.45027   \n",
              "std      48.664509    49.413109    47.931958    48.732570    48.71204   \n",
              "min      81.100000    82.800000    80.000000    81.000000    80.95000   \n",
              "25%     120.025000   122.100000   118.300000   120.075000   120.05000   \n",
              "50%     141.500000   143.400000   139.600000   141.100000   141.25000   \n",
              "75%     157.175000   159.400000   155.150000   156.925000   156.90000   \n",
              "max     327.700000   328.750000   321.650000   325.950000   325.75000   \n",
              "\n",
              "       Total Trade Quantity  Turnover (Lacs)  \n",
              "count          2.035000e+03      2035.000000  \n",
              "mean           2.335681e+06      3899.980565  \n",
              "std            2.091778e+06      4570.767877  \n",
              "min            3.961000e+04        37.040000  \n",
              "25%            1.146444e+06      1427.460000  \n",
              "50%            1.783456e+06      2512.030000  \n",
              "75%            2.813594e+06      4539.015000  \n",
              "max            2.919102e+07     55755.080000  "
            ],
            "text/html": [
              "\n",
              "  <div id=\"df-acf5cc13-c909-4f1f-8464-b7eebbd84602\">\n",
              "    <div class=\"colab-df-container\">\n",
              "      <div>\n",
              "<style scoped>\n",
              "    .dataframe tbody tr th:only-of-type {\n",
              "        vertical-align: middle;\n",
              "    }\n",
              "\n",
              "    .dataframe tbody tr th {\n",
              "        vertical-align: top;\n",
              "    }\n",
              "\n",
              "    .dataframe thead th {\n",
              "        text-align: right;\n",
              "    }\n",
              "</style>\n",
              "<table border=\"1\" class=\"dataframe\">\n",
              "  <thead>\n",
              "    <tr style=\"text-align: right;\">\n",
              "      <th></th>\n",
              "      <th>Open</th>\n",
              "      <th>High</th>\n",
              "      <th>Low</th>\n",
              "      <th>Last</th>\n",
              "      <th>Close</th>\n",
              "      <th>Total Trade Quantity</th>\n",
              "      <th>Turnover (Lacs)</th>\n",
              "    </tr>\n",
              "  </thead>\n",
              "  <tbody>\n",
              "    <tr>\n",
              "      <th>count</th>\n",
              "      <td>2035.000000</td>\n",
              "      <td>2035.000000</td>\n",
              "      <td>2035.000000</td>\n",
              "      <td>2035.000000</td>\n",
              "      <td>2035.00000</td>\n",
              "      <td>2.035000e+03</td>\n",
              "      <td>2035.000000</td>\n",
              "    </tr>\n",
              "    <tr>\n",
              "      <th>mean</th>\n",
              "      <td>149.713735</td>\n",
              "      <td>151.992826</td>\n",
              "      <td>147.293931</td>\n",
              "      <td>149.474251</td>\n",
              "      <td>149.45027</td>\n",
              "      <td>2.335681e+06</td>\n",
              "      <td>3899.980565</td>\n",
              "    </tr>\n",
              "    <tr>\n",
              "      <th>std</th>\n",
              "      <td>48.664509</td>\n",
              "      <td>49.413109</td>\n",
              "      <td>47.931958</td>\n",
              "      <td>48.732570</td>\n",
              "      <td>48.71204</td>\n",
              "      <td>2.091778e+06</td>\n",
              "      <td>4570.767877</td>\n",
              "    </tr>\n",
              "    <tr>\n",
              "      <th>min</th>\n",
              "      <td>81.100000</td>\n",
              "      <td>82.800000</td>\n",
              "      <td>80.000000</td>\n",
              "      <td>81.000000</td>\n",
              "      <td>80.95000</td>\n",
              "      <td>3.961000e+04</td>\n",
              "      <td>37.040000</td>\n",
              "    </tr>\n",
              "    <tr>\n",
              "      <th>25%</th>\n",
              "      <td>120.025000</td>\n",
              "      <td>122.100000</td>\n",
              "      <td>118.300000</td>\n",
              "      <td>120.075000</td>\n",
              "      <td>120.05000</td>\n",
              "      <td>1.146444e+06</td>\n",
              "      <td>1427.460000</td>\n",
              "    </tr>\n",
              "    <tr>\n",
              "      <th>50%</th>\n",
              "      <td>141.500000</td>\n",
              "      <td>143.400000</td>\n",
              "      <td>139.600000</td>\n",
              "      <td>141.100000</td>\n",
              "      <td>141.25000</td>\n",
              "      <td>1.783456e+06</td>\n",
              "      <td>2512.030000</td>\n",
              "    </tr>\n",
              "    <tr>\n",
              "      <th>75%</th>\n",
              "      <td>157.175000</td>\n",
              "      <td>159.400000</td>\n",
              "      <td>155.150000</td>\n",
              "      <td>156.925000</td>\n",
              "      <td>156.90000</td>\n",
              "      <td>2.813594e+06</td>\n",
              "      <td>4539.015000</td>\n",
              "    </tr>\n",
              "    <tr>\n",
              "      <th>max</th>\n",
              "      <td>327.700000</td>\n",
              "      <td>328.750000</td>\n",
              "      <td>321.650000</td>\n",
              "      <td>325.950000</td>\n",
              "      <td>325.75000</td>\n",
              "      <td>2.919102e+07</td>\n",
              "      <td>55755.080000</td>\n",
              "    </tr>\n",
              "  </tbody>\n",
              "</table>\n",
              "</div>\n",
              "      <button class=\"colab-df-convert\" onclick=\"convertToInteractive('df-acf5cc13-c909-4f1f-8464-b7eebbd84602')\"\n",
              "              title=\"Convert this dataframe to an interactive table.\"\n",
              "              style=\"display:none;\">\n",
              "        \n",
              "  <svg xmlns=\"http://www.w3.org/2000/svg\" height=\"24px\"viewBox=\"0 0 24 24\"\n",
              "       width=\"24px\">\n",
              "    <path d=\"M0 0h24v24H0V0z\" fill=\"none\"/>\n",
              "    <path d=\"M18.56 5.44l.94 2.06.94-2.06 2.06-.94-2.06-.94-.94-2.06-.94 2.06-2.06.94zm-11 1L8.5 8.5l.94-2.06 2.06-.94-2.06-.94L8.5 2.5l-.94 2.06-2.06.94zm10 10l.94 2.06.94-2.06 2.06-.94-2.06-.94-.94-2.06-.94 2.06-2.06.94z\"/><path d=\"M17.41 7.96l-1.37-1.37c-.4-.4-.92-.59-1.43-.59-.52 0-1.04.2-1.43.59L10.3 9.45l-7.72 7.72c-.78.78-.78 2.05 0 2.83L4 21.41c.39.39.9.59 1.41.59.51 0 1.02-.2 1.41-.59l7.78-7.78 2.81-2.81c.8-.78.8-2.07 0-2.86zM5.41 20L4 18.59l7.72-7.72 1.47 1.35L5.41 20z\"/>\n",
              "  </svg>\n",
              "      </button>\n",
              "      \n",
              "  <style>\n",
              "    .colab-df-container {\n",
              "      display:flex;\n",
              "      flex-wrap:wrap;\n",
              "      gap: 12px;\n",
              "    }\n",
              "\n",
              "    .colab-df-convert {\n",
              "      background-color: #E8F0FE;\n",
              "      border: none;\n",
              "      border-radius: 50%;\n",
              "      cursor: pointer;\n",
              "      display: none;\n",
              "      fill: #1967D2;\n",
              "      height: 32px;\n",
              "      padding: 0 0 0 0;\n",
              "      width: 32px;\n",
              "    }\n",
              "\n",
              "    .colab-df-convert:hover {\n",
              "      background-color: #E2EBFA;\n",
              "      box-shadow: 0px 1px 2px rgba(60, 64, 67, 0.3), 0px 1px 3px 1px rgba(60, 64, 67, 0.15);\n",
              "      fill: #174EA6;\n",
              "    }\n",
              "\n",
              "    [theme=dark] .colab-df-convert {\n",
              "      background-color: #3B4455;\n",
              "      fill: #D2E3FC;\n",
              "    }\n",
              "\n",
              "    [theme=dark] .colab-df-convert:hover {\n",
              "      background-color: #434B5C;\n",
              "      box-shadow: 0px 1px 3px 1px rgba(0, 0, 0, 0.15);\n",
              "      filter: drop-shadow(0px 1px 2px rgba(0, 0, 0, 0.3));\n",
              "      fill: #FFFFFF;\n",
              "    }\n",
              "  </style>\n",
              "\n",
              "      <script>\n",
              "        const buttonEl =\n",
              "          document.querySelector('#df-acf5cc13-c909-4f1f-8464-b7eebbd84602 button.colab-df-convert');\n",
              "        buttonEl.style.display =\n",
              "          google.colab.kernel.accessAllowed ? 'block' : 'none';\n",
              "\n",
              "        async function convertToInteractive(key) {\n",
              "          const element = document.querySelector('#df-acf5cc13-c909-4f1f-8464-b7eebbd84602');\n",
              "          const dataTable =\n",
              "            await google.colab.kernel.invokeFunction('convertToInteractive',\n",
              "                                                     [key], {});\n",
              "          if (!dataTable) return;\n",
              "\n",
              "          const docLinkHtml = 'Like what you see? Visit the ' +\n",
              "            '<a target=\"_blank\" href=https://colab.research.google.com/notebooks/data_table.ipynb>data table notebook</a>'\n",
              "            + ' to learn more about interactive tables.';\n",
              "          element.innerHTML = '';\n",
              "          dataTable['output_type'] = 'display_data';\n",
              "          await google.colab.output.renderOutput(dataTable, element);\n",
              "          const docLink = document.createElement('div');\n",
              "          docLink.innerHTML = docLinkHtml;\n",
              "          element.appendChild(docLink);\n",
              "        }\n",
              "      </script>\n",
              "    </div>\n",
              "  </div>\n",
              "  "
            ]
          },
          "metadata": {},
          "execution_count": 9
        }
      ]
    },
    {
      "cell_type": "code",
      "source": [
        "plt.figure(figsize=(10,6))\n",
        "df['Close'].plot(kind='line',figsize=(16,7),color='r',label=\"Closing Price\")\n",
        "\n",
        "plt.ylabel(\"Price\")\n",
        "plt.legend(loc=\"upper right\")\n",
        "plt.title(\"Change in closing price over the years\")\n",
        "plt.grid()"
      ],
      "metadata": {
        "colab": {
          "base_uri": "https://localhost:8080/",
          "height": 444
        },
        "id": "NT_H6R7SBbHc",
        "outputId": "7aa738ce-47b9-4092-f6d9-8d534407fff3"
      },
      "execution_count": 10,
      "outputs": [
        {
          "output_type": "display_data",
          "data": {
            "text/plain": [
              "<Figure size 1152x504 with 1 Axes>"
            ],
            "image/png": "[encoded data removed]"
          },
          "metadata": {
            "needs_background": "light"
          }
        }
      ]
    },
    {
      "cell_type": "code",
      "source": [
        "plt.figure(figsize=(10,6))\n",
        "df['Open'].plot(kind='line',figsize=(16,7),color='y',label=\"Opening Price\")\n",
        "\n",
        "plt.ylabel(\"Price\")\n",
        "plt.legend(loc=\"upper left\")\n",
        "plt.title(\"Change in opening price over the years\")\n",
        "plt.grid()"
      ],
      "metadata": {
        "colab": {
          "base_uri": "https://localhost:8080/",
          "height": 444
        },
        "id": "54NKbRHaBe3y",
        "outputId": "c3956f21-0f5e-4f3e-c171-fd62856830ee"
      },
      "execution_count": 11,
      "outputs": [
        {
          "output_type": "display_data",
          "data": {
            "text/plain": [
              "<Figure size 1152x504 with 1 Axes>"
            ],
            "image/png": "[encoded data removed]"
          },
          "metadata": {
            "needs_background": "light"
          }
        }
      ]
    },
    {
      "cell_type": "code",
      "source": [
        "df1=df.reset_index()['Close']\n",
        "df1"
      ],
      "metadata": {
        "colab": {
          "base_uri": "https://localhost:8080/"
        },
        "id": "Nlrf6G8ABiba",
        "outputId": "3e274ea4-06eb-4fa0-ce04-21f2084ff016"
      },
      "execution_count": 12,
      "outputs": [
        {
          "output_type": "execute_result",
          "data": {
            "text/plain": [
              "0       233.75\n",
              "1       233.25\n",
              "2       234.25\n",
              "3       236.10\n",
              "4       233.30\n",
              "         ...  \n",
              "2030    118.65\n",
              "2031    117.60\n",
              "2032    120.65\n",
              "2033    120.90\n",
              "2034    121.55\n",
              "Name: Close, Length: 2035, dtype: float64"
            ]
          },
          "metadata": {},
          "execution_count": 12
        }
      ]
    },
    {
      "cell_type": "code",
      "source": [
        "plt.figure(figsize=(12,6))\n",
        "sns.heatmap(df.corr(),annot=True,cmap='BuPu')"
      ],
      "metadata": {
        "colab": {
          "base_uri": "https://localhost:8080/",
          "height": 485
        },
        "id": "djLvkGRIBoF9",
        "outputId": "b525ee74-91f7-47a0-a2ff-7c17afcad309"
      },
      "execution_count": 13,
      "outputs": [
        {
          "output_type": "execute_result",
          "data": {
            "text/plain": [
              "<matplotlib.axes._subplots.AxesSubplot at 0x7f6a105875d0>"
            ]
          },
          "metadata": {},
          "execution_count": 13
        },
        {
          "output_type": "display_data",
          "data": {
            "text/plain": [
              "<Figure size 864x432 with 2 Axes>"
            ],
            "image/png": "[encoded data removed]"
          },
          "metadata": {
            "needs_background": "light"
          }
        }
      ]
    },
    {
      "cell_type": "code",
      "source": [
        "plt.figure(figsize=(11,5))\n",
        "plt.subplot(1,2,1)\n",
        "sns.boxplot(data=df,y='Total Trade Quantity',color='green')\n",
        "plt.subplot(1,2,2)\n",
        "sns.boxplot(data=df,y='Turnover (Lacs)',color='red')"
      ],
      "metadata": {
        "colab": {
          "base_uri": "https://localhost:8080/",
          "height": 334
        },
        "id": "LPZSUSqYDP_R",
        "outputId": "972dade1-4eef-4eec-c503-2ecf042a0c50"
      },
      "execution_count": 14,
      "outputs": [
        {
          "output_type": "execute_result",
          "data": {
            "text/plain": [
              "<matplotlib.axes._subplots.AxesSubplot at 0x7f6a0dc41350>"
            ]
          },
          "metadata": {},
          "execution_count": 14
        },
        {
          "output_type": "display_data",
          "data": {
            "text/plain": [
              "<Figure size 792x360 with 2 Axes>"
            ],
            "image/png": "[encoded data removed]"
          },
          "metadata": {
            "needs_background": "light"
          }
        }
      ]
    },
    {
      "cell_type": "code",
      "source": [
        "fig=plt.figure(figsize=(7,6))\n",
        "plt.scatter(df['Total Trade Quantity'],df['Turnover (Lacs)'], alpha=0.5, edgecolor='r', color='cyan')\n",
        "plt.xlabel(\"Trade Quantity (in 100000)\")\n",
        "plt.ylabel(\"Turnover (in lacs)\")\n",
        "plt.title(\" Selling Units Vs Turnover\")\n",
        "plt.show()"
      ],
      "metadata": {
        "colab": {
          "base_uri": "https://localhost:8080/",
          "height": 404
        },
        "id": "LT7foO-EDSbK",
        "outputId": "8c77e8c6-9956-4059-c3c3-d04102eaca0d"
      },
      "execution_count": 15,
      "outputs": [
        {
          "output_type": "display_data",
          "data": {
            "text/plain": [
              "<Figure size 504x432 with 1 Axes>"
            ],
            "image/png": "[encoded data removed]"
          },
          "metadata": {
            "needs_background": "light"
          }
        }
      ]
    },
    {
      "cell_type": "code",
      "source": [
        "training_set= df[['Open']]\n",
        "training_set=pd.DataFrame(training_set)\n",
        "training_set"
      ],
      "metadata": {
        "colab": {
          "base_uri": "https://localhost:8080/",
          "height": 424
        },
        "id": "LtP0IOr8DVaP",
        "outputId": "d18b0e1b-1012-4f00-81d8-88b5dfc98b00"
      },
      "execution_count": 16,
      "outputs": [
        {
          "output_type": "execute_result",
          "data": {
            "text/plain": [
              "        Open\n",
              "0     234.05\n",
              "1     234.55\n",
              "2     240.00\n",
              "3     233.30\n",
              "4     233.55\n",
              "...      ...\n",
              "2030  117.60\n",
              "2031  120.10\n",
              "2032  121.80\n",
              "2033  120.30\n",
              "2034  122.10\n",
              "\n",
              "[2035 rows x 1 columns]"
            ],
            "text/html": [
              "\n",
              "  <div id=\"df-5d0c99b0-8597-4dee-b2f0-b7964f839c36\">\n",
              "    <div class=\"colab-df-container\">\n",
              "      <div>\n",
              "<style scoped>\n",
              "    .dataframe tbody tr th:only-of-type {\n",
              "        vertical-align: middle;\n",
              "    }\n",
              "\n",
              "    .dataframe tbody tr th {\n",
              "        vertical-align: top;\n",
              "    }\n",
              "\n",
              "    .dataframe thead th {\n",
              "        text-align: right;\n",
              "    }\n",
              "</style>\n",
              "<table border=\"1\" class=\"dataframe\">\n",
              "  <thead>\n",
              "    <tr style=\"text-align: right;\">\n",
              "      <th></th>\n",
              "      <th>Open</th>\n",
              "    </tr>\n",
              "  </thead>\n",
              "  <tbody>\n",
              "    <tr>\n",
              "      <th>0</th>\n",
              "      <td>234.05</td>\n",
              "    </tr>\n",
              "    <tr>\n",
              "      <th>1</th>\n",
              "      <td>234.55</td>\n",
              "    </tr>\n",
              "    <tr>\n",
              "      <th>2</th>\n",
              "      <td>240.00</td>\n",
              "    </tr>\n",
              "    <tr>\n",
              "      <th>3</th>\n",
              "      <td>233.30</td>\n",
              "    </tr>\n",
              "    <tr>\n",
              "      <th>4</th>\n",
              "      <td>233.55</td>\n",
              "    </tr>\n",
              "    <tr>\n",
              "      <th>...</th>\n",
              "      <td>...</td>\n",
              "    </tr>\n",
              "    <tr>\n",
              "      <th>2030</th>\n",
              "      <td>117.60</td>\n",
              "    </tr>\n",
              "    <tr>\n",
              "      <th>2031</th>\n",
              "      <td>120.10</td>\n",
              "    </tr>\n",
              "    <tr>\n",
              "      <th>2032</th>\n",
              "      <td>121.80</td>\n",
              "    </tr>\n",
              "    <tr>\n",
              "      <th>2033</th>\n",
              "      <td>120.30</td>\n",
              "    </tr>\n",
              "    <tr>\n",
              "      <th>2034</th>\n",
              "      <td>122.10</td>\n",
              "    </tr>\n",
              "  </tbody>\n",
              "</table>\n",
              "<p>2035 rows × 1 columns</p>\n",
              "</div>\n",
              "      <button class=\"colab-df-convert\" onclick=\"convertToInteractive('df-5d0c99b0-8597-4dee-b2f0-b7964f839c36')\"\n",
              "              title=\"Convert this dataframe to an interactive table.\"\n",
              "              style=\"display:none;\">\n",
              "        \n",
              "  <svg xmlns=\"http://www.w3.org/2000/svg\" height=\"24px\"viewBox=\"0 0 24 24\"\n",
              "       width=\"24px\">\n",
              "    <path d=\"M0 0h24v24H0V0z\" fill=\"none\"/>\n",
              "    <path d=\"M18.56 5.44l.94 2.06.94-2.06 2.06-.94-2.06-.94-.94-2.06-.94 2.06-2.06.94zm-11 1L8.5 8.5l.94-2.06 2.06-.94-2.06-.94L8.5 2.5l-.94 2.06-2.06.94zm10 10l.94 2.06.94-2.06 2.06-.94-2.06-.94-.94-2.06-.94 2.06-2.06.94z\"/><path d=\"M17.41 7.96l-1.37-1.37c-.4-.4-.92-.59-1.43-.59-.52 0-1.04.2-1.43.59L10.3 9.45l-7.72 7.72c-.78.78-.78 2.05 0 2.83L4 21.41c.39.39.9.59 1.41.59.51 0 1.02-.2 1.41-.59l7.78-7.78 2.81-2.81c.8-.78.8-2.07 0-2.86zM5.41 20L4 18.59l7.72-7.72 1.47 1.35L5.41 20z\"/>\n",
              "  </svg>\n",
              "      </button>\n",
              "      \n",
              "  <style>\n",
              "    .colab-df-container {\n",
              "      display:flex;\n",
              "      flex-wrap:wrap;\n",
              "      gap: 12px;\n",
              "    }\n",
              "\n",
              "    .colab-df-convert {\n",
              "      background-color: #E8F0FE;\n",
              "      border: none;\n",
              "      border-radius: 50%;\n",
              "      cursor: pointer;\n",
              "      display: none;\n",
              "      fill: #1967D2;\n",
              "      height: 32px;\n",
              "      padding: 0 0 0 0;\n",
              "      width: 32px;\n",
              "    }\n",
              "\n",
              "    .colab-df-convert:hover {\n",
              "      background-color: #E2EBFA;\n",
              "      box-shadow: 0px 1px 2px rgba(60, 64, 67, 0.3), 0px 1px 3px 1px rgba(60, 64, 67, 0.15);\n",
              "      fill: #174EA6;\n",
              "    }\n",
              "\n",
              "    [theme=dark] .colab-df-convert {\n",
              "      background-color: #3B4455;\n",
              "      fill: #D2E3FC;\n",
              "    }\n",
              "\n",
              "    [theme=dark] .colab-df-convert:hover {\n",
              "      background-color: #434B5C;\n",
              "      box-shadow: 0px 1px 3px 1px rgba(0, 0, 0, 0.15);\n",
              "      filter: drop-shadow(0px 1px 2px rgba(0, 0, 0, 0.3));\n",
              "      fill: #FFFFFF;\n",
              "    }\n",
              "  </style>\n",
              "\n",
              "      <script>\n",
              "        const buttonEl =\n",
              "          document.querySelector('#df-5d0c99b0-8597-4dee-b2f0-b7964f839c36 button.colab-df-convert');\n",
              "        buttonEl.style.display =\n",
              "          google.colab.kernel.accessAllowed ? 'block' : 'none';\n",
              "\n",
              "        async function convertToInteractive(key) {\n",
              "          const element = document.querySelector('#df-5d0c99b0-8597-4dee-b2f0-b7964f839c36');\n",
              "          const dataTable =\n",
              "            await google.colab.kernel.invokeFunction('convertToInteractive',\n",
              "                                                     [key], {});\n",
              "          if (!dataTable) return;\n",
              "\n",
              "          const docLinkHtml = 'Like what you see? Visit the ' +\n",
              "            '<a target=\"_blank\" href=https://colab.research.google.com/notebooks/data_table.ipynb>data table notebook</a>'\n",
              "            + ' to learn more about interactive tables.';\n",
              "          element.innerHTML = '';\n",
              "          dataTable['output_type'] = 'display_data';\n",
              "          await google.colab.output.renderOutput(dataTable, element);\n",
              "          const docLink = document.createElement('div');\n",
              "          docLink.innerHTML = docLinkHtml;\n",
              "          element.appendChild(docLink);\n",
              "        }\n",
              "      </script>\n",
              "    </div>\n",
              "  </div>\n",
              "  "
            ]
          },
          "metadata": {},
          "execution_count": 16
        }
      ]
    },
    {
      "cell_type": "code",
      "source": [
        "scaler=MinMaxScaler(feature_range=(0,1))\n",
        "training_set_scaler=scaler.fit_transform(np.array(df1).reshape(-1,1))"
      ],
      "metadata": {
        "id": "PjXlTR6nDbHU"
      },
      "execution_count": 17,
      "outputs": []
    },
    {
      "cell_type": "code",
      "source": [
        "training_set_scaler"
      ],
      "metadata": {
        "colab": {
          "base_uri": "https://localhost:8080/"
        },
        "id": "0JbwgBkgDeK7",
        "outputId": "92a3ac7a-d075-45f3-88b0-94f3009df95d"
      },
      "execution_count": 18,
      "outputs": [
        {
          "output_type": "execute_result",
          "data": {
            "text/plain": [
              "array([[0.62418301],\n",
              "       [0.62214052],\n",
              "       [0.62622549],\n",
              "       ...,\n",
              "       [0.1621732 ],\n",
              "       [0.16319444],\n",
              "       [0.16584967]])"
            ]
          },
          "metadata": {},
          "execution_count": 18
        }
      ]
    },
    {
      "cell_type": "code",
      "source": [
        "train_size1= int(len(training_set_scaler)*0.65)\n",
        "test_size1=int(len(training_set_scaler))-train_size1\n",
        "train_data1,test_data1=training_set_scaler[0:train_size1,:],training_set_scaler[train_size1:len(df),:1]"
      ],
      "metadata": {
        "id": "ZMxGTYkFDhKr"
      },
      "execution_count": 19,
      "outputs": []
    },
    {
      "cell_type": "code",
      "source": [
        "train_size1"
      ],
      "metadata": {
        "colab": {
          "base_uri": "https://localhost:8080/"
        },
        "id": "w--WAaiwDl6Y",
        "outputId": "01b26a21-db9f-4ef6-b61f-ad34da65f36b"
      },
      "execution_count": 20,
      "outputs": [
        {
          "output_type": "execute_result",
          "data": {
            "text/plain": [
              "1322"
            ]
          },
          "metadata": {},
          "execution_count": 20
        }
      ]
    },
    {
      "cell_type": "code",
      "source": [
        "def create_dataset(dataset,time_step=1):\n",
        "    dataX, dataY = [], []\n",
        "    for i in range(len(dataset)-time_step-1):\n",
        "        a = dataset[i:(i+time_step), 0]   ###i=0, 0,1,2,3-----99   100 \n",
        "        dataX.append(a)\n",
        "        dataY.append(dataset[i + time_step, 0])\n",
        "    return np.array(dataX), np.array(dataY)"
      ],
      "metadata": {
        "id": "lK4ozRIXDoyq"
      },
      "execution_count": 21,
      "outputs": []
    },
    {
      "cell_type": "code",
      "source": [
        "time_step=100\n",
        "x_train, y_train=create_dataset(train_data1, time_step)\n",
        "x_test, y_test= create_dataset(test_data1, time_step)\n",
        "print(x_train.shape,y_train.shape)"
      ],
      "metadata": {
        "colab": {
          "base_uri": "https://localhost:8080/"
        },
        "id": "xY_MNbfEDtu4",
        "outputId": "80eb9ef5-811e-40fa-ae98-eb8921a205f4"
      },
      "execution_count": 22,
      "outputs": [
        {
          "output_type": "stream",
          "name": "stdout",
          "text": [
            "(1221, 100) (1221,)\n"
          ]
        }
      ]
    },
    {
      "cell_type": "code",
      "source": [
        "x_test.shape"
      ],
      "metadata": {
        "colab": {
          "base_uri": "https://localhost:8080/"
        },
        "id": "4TnezbFRD2E8",
        "outputId": "f48088af-9f78-4cf1-e50e-cfb07ff8b030"
      },
      "execution_count": 23,
      "outputs": [
        {
          "output_type": "execute_result",
          "data": {
            "text/plain": [
              "(612, 100)"
            ]
          },
          "metadata": {},
          "execution_count": 23
        }
      ]
    },
    {
      "cell_type": "code",
      "source": [
        "y_test.shape"
      ],
      "metadata": {
        "colab": {
          "base_uri": "https://localhost:8080/"
        },
        "id": "EaYnfWgqD8w5",
        "outputId": "d3d263f4-1531-44b8-ef07-58f43cf3ba3c"
      },
      "execution_count": 24,
      "outputs": [
        {
          "output_type": "execute_result",
          "data": {
            "text/plain": [
              "(612,)"
            ]
          },
          "metadata": {},
          "execution_count": 24
        }
      ]
    },
    {
      "cell_type": "code",
      "source": [
        "x_train = x_train.reshape(x_train.shape[0],x_train.shape[1] , 1)\n",
        "x_test = x_test.reshape(x_test.shape[0],x_test.shape[1] , 1)\n",
        "model = Sequential()\n",
        "model.add(LSTM(50, return_sequences=True, input_shape=(100,1)))\n",
        "model.add(LSTM(50, return_sequences=True, input_shape=(100,1)))\n",
        "model.add(LSTM(50))\n",
        "model.add(Dense(1))\n",
        "model.compile(loss='mean_squared_error', optimizer='adam', metrics='acc')\n",
        "model.summary()"
      ],
      "metadata": {
        "colab": {
          "base_uri": "https://localhost:8080/"
        },
        "id": "Buojm7geEAJD",
        "outputId": "a697af30-b049-4dcd-b651-dffad9e9d2e3"
      },
      "execution_count": 25,
      "outputs": [
        {
          "output_type": "stream",
          "name": "stdout",
          "text": [
            "Model: \"sequential\"\n",
            "_________________________________________________________________\n",
            " Layer (type)                Output Shape              Param #   \n",
            "=================================================================\n",
            " lstm (LSTM)                 (None, 100, 50)           10400     \n",
            "                                                                 \n",
            " lstm_1 (LSTM)               (None, 100, 50)           20200     \n",
            "                                                                 \n",
            " lstm_2 (LSTM)               (None, 50)                20200     \n",
            "                                                                 \n",
            " dense (Dense)               (None, 1)                 51        \n",
            "                                                                 \n",
            "=================================================================\n",
            "Total params: 50,851\n",
            "Trainable params: 50,851\n",
            "Non-trainable params: 0\n",
            "_________________________________________________________________\n"
          ]
        }
      ]
    },
    {
      "cell_type": "code",
      "source": [
        "model.fit(x_train, y_train, validation_data = (x_test, y_test), epochs = 75, batch_size = 64, verbose = 1)"
      ],
      "metadata": {
        "colab": {
          "base_uri": "https://localhost:8080/"
        },
        "id": "tK-4KMb0EGL8",
        "outputId": "5d24cab2-06d9-4c95-b91e-526fe43d8b3c"
      },
      "execution_count": 26,
      "outputs": [
        {
          "output_type": "stream",
          "name": "stdout",
          "text": [
            "Epoch 1/75\n",
            "20/20 [==============================] - 11s 275ms/step - loss: 0.0294 - acc: 0.0000e+00 - val_loss: 0.0035 - val_acc: 0.0016\n",
            "Epoch 2/75\n",
            "20/20 [==============================] - 4s 181ms/step - loss: 0.0040 - acc: 8.1900e-04 - val_loss: 0.0017 - val_acc: 0.0016\n",
            "Epoch 3/75\n",
            "20/20 [==============================] - 4s 187ms/step - loss: 0.0017 - acc: 8.1900e-04 - val_loss: 9.2675e-04 - val_acc: 0.0016\n",
            "Epoch 4/75\n",
            "20/20 [==============================] - 4s 188ms/step - loss: 0.0014 - acc: 8.1900e-04 - val_loss: 8.3519e-04 - val_acc: 0.0016\n",
            "Epoch 5/75\n",
            "20/20 [==============================] - 4s 184ms/step - loss: 0.0017 - acc: 8.1900e-04 - val_loss: 0.0012 - val_acc: 0.0016\n",
            "Epoch 6/75\n",
            "20/20 [==============================] - 4s 184ms/step - loss: 0.0013 - acc: 8.1900e-04 - val_loss: 0.0010 - val_acc: 0.0016\n",
            "Epoch 7/75\n",
            "20/20 [==============================] - 4s 193ms/step - loss: 0.0013 - acc: 8.1900e-04 - val_loss: 0.0010 - val_acc: 0.0016\n",
            "Epoch 8/75\n",
            "20/20 [==============================] - 4s 189ms/step - loss: 0.0012 - acc: 8.1900e-04 - val_loss: 9.2208e-04 - val_acc: 0.0016\n",
            "Epoch 9/75\n",
            "20/20 [==============================] - 4s 187ms/step - loss: 0.0012 - acc: 8.1900e-04 - val_loss: 0.0012 - val_acc: 0.0016\n",
            "Epoch 10/75\n",
            "20/20 [==============================] - 4s 189ms/step - loss: 0.0012 - acc: 8.1900e-04 - val_loss: 7.4688e-04 - val_acc: 0.0016\n",
            "Epoch 11/75\n",
            "20/20 [==============================] - 4s 193ms/step - loss: 0.0012 - acc: 8.1900e-04 - val_loss: 0.0011 - val_acc: 0.0016\n",
            "Epoch 12/75\n",
            "20/20 [==============================] - 4s 195ms/step - loss: 0.0011 - acc: 8.1900e-04 - val_loss: 7.5034e-04 - val_acc: 0.0016\n",
            "Epoch 13/75\n",
            "20/20 [==============================] - 4s 181ms/step - loss: 0.0011 - acc: 8.1900e-04 - val_loss: 9.3399e-04 - val_acc: 0.0016\n",
            "Epoch 14/75\n",
            "20/20 [==============================] - 4s 179ms/step - loss: 0.0010 - acc: 8.1900e-04 - val_loss: 6.9402e-04 - val_acc: 0.0016\n",
            "Epoch 15/75\n",
            "20/20 [==============================] - 4s 190ms/step - loss: 9.4660e-04 - acc: 8.1900e-04 - val_loss: 7.1357e-04 - val_acc: 0.0016\n",
            "Epoch 16/75\n",
            "20/20 [==============================] - 5s 248ms/step - loss: 9.5286e-04 - acc: 8.1900e-04 - val_loss: 6.4004e-04 - val_acc: 0.0016\n",
            "Epoch 17/75\n",
            "20/20 [==============================] - 4s 194ms/step - loss: 0.0012 - acc: 8.1900e-04 - val_loss: 6.9551e-04 - val_acc: 0.0016\n",
            "Epoch 18/75\n",
            "20/20 [==============================] - 5s 251ms/step - loss: 0.0010 - acc: 8.1900e-04 - val_loss: 8.0084e-04 - val_acc: 0.0016\n",
            "Epoch 19/75\n",
            "20/20 [==============================] - 4s 178ms/step - loss: 8.7202e-04 - acc: 8.1900e-04 - val_loss: 8.0878e-04 - val_acc: 0.0016\n",
            "Epoch 20/75\n",
            "20/20 [==============================] - 4s 186ms/step - loss: 8.9109e-04 - acc: 8.1900e-04 - val_loss: 6.5363e-04 - val_acc: 0.0016\n",
            "Epoch 21/75\n",
            "20/20 [==============================] - 4s 197ms/step - loss: 8.4965e-04 - acc: 8.1900e-04 - val_loss: 6.3783e-04 - val_acc: 0.0016\n",
            "Epoch 22/75\n",
            "20/20 [==============================] - 4s 190ms/step - loss: 0.0010 - acc: 8.1900e-04 - val_loss: 7.0199e-04 - val_acc: 0.0016\n",
            "Epoch 23/75\n",
            "20/20 [==============================] - 4s 184ms/step - loss: 8.5188e-04 - acc: 8.1900e-04 - val_loss: 7.2325e-04 - val_acc: 0.0016\n",
            "Epoch 24/75\n",
            "20/20 [==============================] - 4s 191ms/step - loss: 8.8213e-04 - acc: 8.1900e-04 - val_loss: 7.0191e-04 - val_acc: 0.0016\n",
            "Epoch 25/75\n",
            "20/20 [==============================] - 4s 198ms/step - loss: 7.8137e-04 - acc: 8.1900e-04 - val_loss: 6.2143e-04 - val_acc: 0.0016\n",
            "Epoch 26/75\n",
            "20/20 [==============================] - 4s 180ms/step - loss: 9.3521e-04 - acc: 8.1900e-04 - val_loss: 5.7921e-04 - val_acc: 0.0016\n",
            "Epoch 27/75\n",
            "20/20 [==============================] - 4s 180ms/step - loss: 8.3080e-04 - acc: 8.1900e-04 - val_loss: 6.2080e-04 - val_acc: 0.0016\n",
            "Epoch 28/75\n",
            "20/20 [==============================] - 4s 188ms/step - loss: 7.2094e-04 - acc: 8.1900e-04 - val_loss: 7.3838e-04 - val_acc: 0.0016\n",
            "Epoch 29/75\n",
            "20/20 [==============================] - 4s 182ms/step - loss: 8.3004e-04 - acc: 8.1900e-04 - val_loss: 8.0452e-04 - val_acc: 0.0016\n",
            "Epoch 30/75\n",
            "20/20 [==============================] - 4s 187ms/step - loss: 6.9658e-04 - acc: 8.1900e-04 - val_loss: 6.5567e-04 - val_acc: 0.0016\n",
            "Epoch 31/75\n",
            "20/20 [==============================] - 4s 187ms/step - loss: 7.0371e-04 - acc: 8.1900e-04 - val_loss: 7.4520e-04 - val_acc: 0.0016\n",
            "Epoch 32/75\n",
            "20/20 [==============================] - 4s 180ms/step - loss: 6.5609e-04 - acc: 8.1900e-04 - val_loss: 9.6820e-04 - val_acc: 0.0016\n",
            "Epoch 33/75\n",
            "20/20 [==============================] - 4s 187ms/step - loss: 6.8921e-04 - acc: 8.1900e-04 - val_loss: 7.1718e-04 - val_acc: 0.0016\n",
            "Epoch 34/75\n",
            "20/20 [==============================] - 4s 190ms/step - loss: 6.4639e-04 - acc: 8.1900e-04 - val_loss: 5.7290e-04 - val_acc: 0.0016\n",
            "Epoch 35/75\n",
            "20/20 [==============================] - 4s 187ms/step - loss: 6.5895e-04 - acc: 8.1900e-04 - val_loss: 6.4750e-04 - val_acc: 0.0016\n",
            "Epoch 36/75\n",
            "20/20 [==============================] - 4s 180ms/step - loss: 6.3130e-04 - acc: 8.1900e-04 - val_loss: 6.2713e-04 - val_acc: 0.0016\n",
            "Epoch 37/75\n",
            "20/20 [==============================] - 4s 188ms/step - loss: 6.6653e-04 - acc: 8.1900e-04 - val_loss: 7.1086e-04 - val_acc: 0.0016\n",
            "Epoch 38/75\n",
            "20/20 [==============================] - 4s 184ms/step - loss: 6.6618e-04 - acc: 8.1900e-04 - val_loss: 6.3967e-04 - val_acc: 0.0016\n",
            "Epoch 39/75\n",
            "20/20 [==============================] - 4s 183ms/step - loss: 6.1749e-04 - acc: 8.1900e-04 - val_loss: 8.7538e-04 - val_acc: 0.0016\n",
            "Epoch 40/75\n",
            "20/20 [==============================] - 4s 184ms/step - loss: 6.1836e-04 - acc: 8.1900e-04 - val_loss: 5.4631e-04 - val_acc: 0.0016\n",
            "Epoch 41/75\n",
            "20/20 [==============================] - 4s 181ms/step - loss: 5.8390e-04 - acc: 8.1900e-04 - val_loss: 5.3486e-04 - val_acc: 0.0016\n",
            "Epoch 42/75\n",
            "20/20 [==============================] - 4s 190ms/step - loss: 5.8810e-04 - acc: 8.1900e-04 - val_loss: 7.6677e-04 - val_acc: 0.0016\n",
            "Epoch 43/75\n",
            "20/20 [==============================] - 4s 184ms/step - loss: 5.9538e-04 - acc: 8.1900e-04 - val_loss: 5.8357e-04 - val_acc: 0.0016\n",
            "Epoch 44/75\n",
            "20/20 [==============================] - 4s 183ms/step - loss: 6.3322e-04 - acc: 8.1900e-04 - val_loss: 6.8301e-04 - val_acc: 0.0016\n",
            "Epoch 45/75\n",
            "20/20 [==============================] - 4s 179ms/step - loss: 6.6961e-04 - acc: 8.1900e-04 - val_loss: 4.9115e-04 - val_acc: 0.0016\n",
            "Epoch 46/75\n",
            "20/20 [==============================] - 4s 185ms/step - loss: 7.1348e-04 - acc: 8.1900e-04 - val_loss: 5.9357e-04 - val_acc: 0.0016\n",
            "Epoch 47/75\n",
            "20/20 [==============================] - 4s 190ms/step - loss: 5.9469e-04 - acc: 8.1900e-04 - val_loss: 6.5598e-04 - val_acc: 0.0016\n",
            "Epoch 48/75\n",
            "20/20 [==============================] - 4s 195ms/step - loss: 5.4959e-04 - acc: 8.1900e-04 - val_loss: 9.1316e-04 - val_acc: 0.0016\n",
            "Epoch 49/75\n",
            "20/20 [==============================] - 4s 184ms/step - loss: 6.7962e-04 - acc: 8.1900e-04 - val_loss: 8.3891e-04 - val_acc: 0.0016\n",
            "Epoch 50/75\n",
            "20/20 [==============================] - 4s 180ms/step - loss: 5.6736e-04 - acc: 8.1900e-04 - val_loss: 4.9704e-04 - val_acc: 0.0016\n",
            "Epoch 51/75\n",
            "20/20 [==============================] - 4s 191ms/step - loss: 5.1002e-04 - acc: 8.1900e-04 - val_loss: 8.6213e-04 - val_acc: 0.0016\n",
            "Epoch 52/75\n",
            "20/20 [==============================] - 4s 188ms/step - loss: 5.7231e-04 - acc: 8.1900e-04 - val_loss: 5.7133e-04 - val_acc: 0.0016\n",
            "Epoch 53/75\n",
            "20/20 [==============================] - 4s 192ms/step - loss: 5.2195e-04 - acc: 8.1900e-04 - val_loss: 6.9523e-04 - val_acc: 0.0016\n",
            "Epoch 54/75\n",
            "20/20 [==============================] - 4s 186ms/step - loss: 5.0454e-04 - acc: 8.1900e-04 - val_loss: 6.0179e-04 - val_acc: 0.0016\n",
            "Epoch 55/75\n",
            "20/20 [==============================] - 4s 182ms/step - loss: 5.0582e-04 - acc: 8.1900e-04 - val_loss: 6.0417e-04 - val_acc: 0.0016\n",
            "Epoch 56/75\n",
            "20/20 [==============================] - 4s 189ms/step - loss: 5.6816e-04 - acc: 8.1900e-04 - val_loss: 5.2362e-04 - val_acc: 0.0016\n",
            "Epoch 57/75\n",
            "20/20 [==============================] - 4s 186ms/step - loss: 4.8155e-04 - acc: 8.1900e-04 - val_loss: 4.8210e-04 - val_acc: 0.0016\n",
            "Epoch 58/75\n",
            "20/20 [==============================] - 4s 194ms/step - loss: 5.4365e-04 - acc: 8.1900e-04 - val_loss: 5.2429e-04 - val_acc: 0.0016\n",
            "Epoch 59/75\n",
            "20/20 [==============================] - 4s 191ms/step - loss: 5.1317e-04 - acc: 8.1900e-04 - val_loss: 4.3718e-04 - val_acc: 0.0016\n",
            "Epoch 60/75\n",
            "20/20 [==============================] - 4s 186ms/step - loss: 4.7087e-04 - acc: 8.1900e-04 - val_loss: 5.9353e-04 - val_acc: 0.0016\n",
            "Epoch 61/75\n",
            "20/20 [==============================] - 4s 192ms/step - loss: 4.6435e-04 - acc: 8.1900e-04 - val_loss: 6.3547e-04 - val_acc: 0.0016\n",
            "Epoch 62/75\n",
            "20/20 [==============================] - 4s 195ms/step - loss: 4.7148e-04 - acc: 8.1900e-04 - val_loss: 3.9549e-04 - val_acc: 0.0016\n",
            "Epoch 63/75\n",
            "20/20 [==============================] - 4s 181ms/step - loss: 6.4770e-04 - acc: 8.1900e-04 - val_loss: 4.5807e-04 - val_acc: 0.0016\n",
            "Epoch 64/75\n",
            "20/20 [==============================] - 4s 179ms/step - loss: 8.8259e-04 - acc: 8.1900e-04 - val_loss: 4.7790e-04 - val_acc: 0.0016\n",
            "Epoch 65/75\n",
            "20/20 [==============================] - 4s 191ms/step - loss: 5.0094e-04 - acc: 8.1900e-04 - val_loss: 4.2472e-04 - val_acc: 0.0016\n",
            "Epoch 66/75\n",
            "20/20 [==============================] - 4s 183ms/step - loss: 4.5712e-04 - acc: 8.1900e-04 - val_loss: 4.2201e-04 - val_acc: 0.0016\n",
            "Epoch 67/75\n",
            "20/20 [==============================] - 4s 189ms/step - loss: 4.7073e-04 - acc: 8.1900e-04 - val_loss: 3.5993e-04 - val_acc: 0.0016\n",
            "Epoch 68/75\n",
            "20/20 [==============================] - 4s 183ms/step - loss: 4.1357e-04 - acc: 8.1900e-04 - val_loss: 3.8489e-04 - val_acc: 0.0016\n",
            "Epoch 69/75\n",
            "20/20 [==============================] - 4s 187ms/step - loss: 4.1228e-04 - acc: 8.1900e-04 - val_loss: 3.5652e-04 - val_acc: 0.0016\n",
            "Epoch 70/75\n",
            "20/20 [==============================] - 5s 238ms/step - loss: 6.6200e-04 - acc: 8.1900e-04 - val_loss: 3.6137e-04 - val_acc: 0.0016\n",
            "Epoch 71/75\n",
            "20/20 [==============================] - 4s 189ms/step - loss: 4.3339e-04 - acc: 8.1900e-04 - val_loss: 4.0641e-04 - val_acc: 0.0016\n",
            "Epoch 72/75\n",
            "20/20 [==============================] - 4s 190ms/step - loss: 3.7620e-04 - acc: 8.1900e-04 - val_loss: 3.7298e-04 - val_acc: 0.0016\n",
            "Epoch 73/75\n",
            "20/20 [==============================] - 4s 191ms/step - loss: 3.5322e-04 - acc: 8.1900e-04 - val_loss: 5.0377e-04 - val_acc: 0.0016\n",
            "Epoch 74/75\n",
            "20/20 [==============================] - 4s 192ms/step - loss: 3.5767e-04 - acc: 8.1900e-04 - val_loss: 4.0709e-04 - val_acc: 0.0016\n",
            "Epoch 75/75\n",
            "20/20 [==============================] - 4s 185ms/step - loss: 3.3790e-04 - acc: 8.1900e-04 - val_loss: 3.4669e-04 - val_acc: 0.0016\n"
          ]
        },
        {
          "output_type": "execute_result",
          "data": {
            "text/plain": [
              "<keras.callbacks.History at 0x7f6a10571cd0>"
            ]
          },
          "metadata": {},
          "execution_count": 26
        }
      ]
    },
    {
      "cell_type": "code",
      "source": [
        "train_predict1=model.predict(x_train)\n",
        "test_predict1=model.predict(x_test)\n",
        "#Transformback to original form\n",
        "train_predict1=scaler.inverse_transform(train_predict1)\n",
        "test_predict1=scaler.inverse_transform(test_predict1)\n",
        "math.sqrt(mean_squared_error(y_train,train_predict1))"
      ],
      "metadata": {
        "colab": {
          "base_uri": "https://localhost:8080/"
        },
        "id": "4MoOlsj6FUhf",
        "outputId": "6fc005f3-ff24-4d62-98cc-15859d658a00"
      },
      "execution_count": 30,
      "outputs": [
        {
          "output_type": "stream",
          "name": "stdout",
          "text": [
            "39/39 [==============================] - 1s 32ms/step\n",
            "20/20 [==============================] - 1s 32ms/step\n"
          ]
        },
        {
          "output_type": "execute_result",
          "data": {
            "text/plain": [
              "163.29989485316244"
            ]
          },
          "metadata": {},
          "execution_count": 30
        }
      ]
    },
    {
      "cell_type": "code",
      "source": [
        "math.sqrt(mean_squared_error(y_test,test_predict1))"
      ],
      "metadata": {
        "colab": {
          "base_uri": "https://localhost:8080/"
        },
        "id": "2naeKeLTFfHu",
        "outputId": "6043690d-c89a-46fe-915d-85db2ffdd314"
      },
      "execution_count": 31,
      "outputs": [
        {
          "output_type": "execute_result",
          "data": {
            "text/plain": [
              "116.02053180411748"
            ]
          },
          "metadata": {},
          "execution_count": 31
        }
      ]
    },
    {
      "cell_type": "code",
      "source": [
        "look_back=100\n",
        "trainPredictPlot = np.empty_like(training_set_scaler)\n",
        "trainPredictPlot[:, :] = np.nan\n",
        "trainPredictPlot[look_back:len(train_predict1)+look_back, :] = train_predict1\n",
        "\n",
        "# shift test predictions for plotting\n",
        "testPredictPlot = np.empty_like(training_set_scaler)\n",
        "testPredictPlot[:, :] = np.nan\n",
        "testPredictPlot[len(train_predict1)+(look_back*2)+1:len(df1)-1, :] = test_predict1\n",
        "\n",
        "# plot baseline and predictions\n",
        "plt.figure(figsize=(10,5))\n",
        "plt.plot(scaler.inverse_transform(training_set_scaler))\n",
        "plt.plot(trainPredictPlot)\n",
        "plt.plot(testPredictPlot)\n",
        "plt.show()"
      ],
      "metadata": {
        "colab": {
          "base_uri": "https://localhost:8080/",
          "height": 320
        },
        "id": "0syPxCjtFtxl",
        "outputId": "7e3deaaa-af04-483d-e7eb-9de5ea6335f1"
      },
      "execution_count": 32,
      "outputs": [
        {
          "output_type": "display_data",
          "data": {
            "text/plain": [
              "<Figure size 720x360 with 1 Axes>"
            ],
            "image/png": "[encoded data removed]"
          },
          "metadata": {
            "needs_background": "light"
          }
        }
      ]
    }
  ]
}